{
 "cells": [
  {
   "cell_type": "code",
   "execution_count": 20,
   "metadata": {},
   "outputs": [
    {
     "name": "stdout",
     "output_type": "stream",
     "text": [
      "/home/jupyter-aymeric.millan\n",
      "['/opt/tljh/user/lib/python36.zip', '/opt/tljh/user/lib/python3.6', '/opt/tljh/user/lib/python3.6/lib-dynload', '', '/opt/tljh/user/lib/python3.6/site-packages', '/opt/tljh/user/lib/python3.6/site-packages/IPython/extensions', '/home/jupyter-aymeric.millan/.ipython', './', 'C:/Users/aympa/source/repos/git_sophia/randomized-svd/main.ipynb', 'C:/Users/aympa/source/repos/git_sophia/randomized-svd/', 'C:/Users/aympa/source/repos/git_sophia/randomized-svd', 'C:/Users/aympa/source/repos/git_sophia/randomized-svd', 'C:/Users/aympa/source/repos/git_sophia/randomized-svd', 'C:/Users/aympa/source/repos/git_sophia/randomized-svd', 'C:/Users/aympa/source/repos/git_sophia/randomized-svd', 'C:/Users/aympa/source/repos/git_sophia/randomized-svd']\n"
     ]
    },
    {
     "ename": "AttributeError",
     "evalue": "module 'posixpath' has no attribute 'append'",
     "output_type": "error",
     "traceback": [
      "\u001b[0;31m---------------------------------------------------------------------------\u001b[0m",
      "\u001b[0;31mAttributeError\u001b[0m                            Traceback (most recent call last)",
      "\u001b[0;32m<ipython-input-20-5f3c220b00a1>\u001b[0m in \u001b[0;36m<module>\u001b[0;34m\u001b[0m\n\u001b[1;32m      4\u001b[0m \u001b[0;34m\u001b[0m\u001b[0m\n\u001b[1;32m      5\u001b[0m \u001b[0mprint\u001b[0m\u001b[0;34m(\u001b[0m\u001b[0msys\u001b[0m\u001b[0;34m.\u001b[0m\u001b[0mpath\u001b[0m\u001b[0;34m)\u001b[0m\u001b[0;34m\u001b[0m\u001b[0;34m\u001b[0m\u001b[0m\n\u001b[0;32m----> 6\u001b[0;31m \u001b[0mos\u001b[0m\u001b[0;34m.\u001b[0m\u001b[0mpath\u001b[0m\u001b[0;34m.\u001b[0m\u001b[0mappend\u001b[0m\u001b[0;34m(\u001b[0m\u001b[0;34m\"C:/Users/aympa/source/repos/git_sophia/randomized-svd\"\u001b[0m\u001b[0;34m)\u001b[0m\u001b[0;34m\u001b[0m\u001b[0;34m\u001b[0m\u001b[0m\n\u001b[0m\u001b[1;32m      7\u001b[0m \u001b[0;34m\u001b[0m\u001b[0m\n\u001b[1;32m      8\u001b[0m \u001b[0;32mimport\u001b[0m \u001b[0mmatplotlib\u001b[0m\u001b[0;34m.\u001b[0m\u001b[0mpyplot\u001b[0m \u001b[0;32mas\u001b[0m \u001b[0mplt\u001b[0m\u001b[0;34m\u001b[0m\u001b[0;34m\u001b[0m\u001b[0m\n",
      "\u001b[0;31mAttributeError\u001b[0m: module 'posixpath' has no attribute 'append'"
     ]
    }
   ],
   "source": [
    "import matplotlib.pyplot as plt\n",
    "import numpy as np\n",
    "from math import ceil, log10\n",
    "from time import perf_counter\n",
    "from utils import *\n",
    "from svd_func import *\n",
    "\n",
    "\n",
    "img = getColouredImage('./resources/small_6946x3906.jpg')\n",
    "# img = getColouredImage('./resources/big_12kx8k.jpg')\n",
    "# img = getColouredImage('./resources/huge_12kx14k.jpg')\n",
    "\n",
    "img = toGrayScale(img)\n",
    "\n",
    "A = np.array(img).transpose() #we transpose because the pic is horizontal\n",
    "m, n = A.shape\n",
    "size = m*n\n",
    "k = 1000 #Numbers of colums to project for estimation \n",
    "\n",
    "print(\"Matrix shape :\", A.shape)\n",
    "print(\"Total size :\", size)\n",
    "print(\"k : \", k)"
   ]
  }
 ],
 "metadata": {
  "kernelspec": {
   "display_name": "Python 3",
   "language": "python",
   "name": "python3"
  },
  "language_info": {
   "codemirror_mode": {
    "name": "ipython",
    "version": 3
   },
   "file_extension": ".py",
   "mimetype": "text/x-python",
   "name": "python",
   "nbconvert_exporter": "python",
   "pygments_lexer": "ipython3",
   "version": "3.6.11"
  },
  "orig_nbformat": 4
 },
 "nbformat": 4,
 "nbformat_minor": 2
}
